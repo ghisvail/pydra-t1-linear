{
 "cells": [
  {
   "cell_type": "markdown",
   "source": [
    "## Preamble"
   ],
   "metadata": {
    "collapsed": false,
    "pycharm": {
     "name": "#%% md\n"
    }
   }
  },
  {
   "cell_type": "code",
   "execution_count": null,
   "outputs": [],
   "source": [
    "# noinspection PyUnresolvedReferences\n",
    "import preamble"
   ],
   "metadata": {
    "collapsed": false,
    "pycharm": {
     "name": "#%%\n"
    }
   }
  },
  {
   "cell_type": "code",
   "execution_count": null,
   "outputs": [],
   "source": [
    "from os import getenv\n",
    "from pathlib import Path\n",
    "\n",
    "clinica_data_ci_dir = getenv(\"CLINICA_DATA_CI_DIR\", str(Path.cwd().parent /  \"clinica_data_ci\"))\n",
    "\n",
    "pipeline_dir = Path(clinica_data_ci_dir) / \"data_ci\" / \"T1Linear\"\n",
    "pipeline_in_dir = pipeline_dir / \"in\"\n",
    "pipeline_ref_dir = pipeline_dir / \"ref\""
   ],
   "metadata": {
    "collapsed": false,
    "pycharm": {
     "name": "#%%\n"
    }
   }
  },
  {
   "cell_type": "markdown",
   "source": [
    "## BIDS data grabber\n",
    "\n",
    "Definition of the BDG interface."
   ],
   "metadata": {
    "collapsed": false,
    "pycharm": {
     "name": "#%% md\n"
    }
   },
   "outputs": []
  },
  {
   "cell_type": "code",
   "execution_count": null,
   "outputs": [],
   "source": [
    "from nipype.interfaces.io import BIDSDataGrabber\n",
    "\n",
    "bids_data_grabber = BIDSDataGrabber(\n",
    "    outfields=[\"T1w\"],\n",
    "    output_query={\n",
    "        \"T1w\": {\n",
    "            \"datatype\": \"anat\",\n",
    "            \"suffix\": \"T1w\",\n",
    "            \"extension\": [\".nii.gz\"],\n",
    "        }\n",
    "    }\n",
    ")"
   ],
   "metadata": {
    "collapsed": false,
    "pycharm": {
     "name": "#%%\n"
    }
   }
  },
  {
   "cell_type": "markdown",
   "source": [
    "## Bias field correction\n",
    "\n",
    "Definition of the BFC interface."
   ],
   "metadata": {
    "collapsed": false,
    "pycharm": {
     "name": "#%% md\n"
    }
   },
   "outputs": []
  },
  {
   "cell_type": "code",
   "execution_count": null,
   "outputs": [],
   "source": [
    "from nipype.interfaces.ants import N4BiasFieldCorrection\n",
    "\n",
    "n4_bias_field_correction = N4BiasFieldCorrection(bspline_fitting_distance=300)"
   ],
   "metadata": {
    "collapsed": false,
    "pycharm": {
     "name": "#%%\n"
    }
   }
  },
  {
   "cell_type": "markdown",
   "source": [
    "## Registration\n",
    "\n",
    "Definition of the registration interface."
   ],
   "metadata": {
    "collapsed": false,
    "pycharm": {
     "name": "#%% md\n"
    }
   },
   "outputs": []
  },
  {
   "cell_type": "code",
   "execution_count": null,
   "outputs": [],
   "source": [
    "from nipype.interfaces.ants import RegistrationSynQuick\n",
    "\n",
    "registration_syn_quick = RegistrationSynQuick(transform_type=\"a\")"
   ],
   "metadata": {
    "collapsed": false,
    "pycharm": {
     "name": "#%%\n"
    }
   }
  },
  {
   "cell_type": "markdown",
   "source": [
    "## Cropping\n",
    "\n",
    "Definition of the cropping interface."
   ],
   "metadata": {
    "collapsed": false,
    "pycharm": {
     "name": "#%% md\n"
    }
   },
   "outputs": []
  },
  {
   "cell_type": "code",
   "execution_count": null,
   "outputs": [],
   "source": [
    "from pydra.mark import annotate, task\n",
    "\n",
    "@task\n",
    "@annotate({\"return\": {\"cropped_image\": str}})\n",
    "def crop_image(input_image: str, template_image: str) -> str:\n",
    "    from pathlib import Path\n",
    "    from nilearn.image import resample_to_img\n",
    "\n",
    "    cropped_image = Path.cwd() / Path(input_image).name.replace(\".nii.gz\", \"_cropped.nii.gz\")\n",
    "\n",
    "    resample_to_img(\n",
    "        source_img=str(input_image),\n",
    "        target_img=str(template_image),\n",
    "        force_resample=True\n",
    "    ).to_filename(cropped_image)\n",
    "\n",
    "    return cropped_image"
   ],
   "metadata": {
    "collapsed": false,
    "pycharm": {
     "name": "#%%\n"
    }
   }
  },
  {
   "cell_type": "markdown",
   "source": [
    "## Template fetchers"
   ],
   "metadata": {
    "collapsed": false,
    "pycharm": {
     "name": "#%% md\n"
    }
   },
   "outputs": []
  },
  {
   "cell_type": "code",
   "execution_count": null,
   "outputs": [],
   "source": [
    "from pathlib import PurePath\n",
    "\n",
    "def download_file(url: str, to: str) -> PurePath:\n",
    "    from shutil import copyfileobj\n",
    "    from ssl import SSLContext\n",
    "    from urllib.request import urlopen\n",
    "\n",
    "    print(f\"Downloading {url} to {to}...\")\n",
    "\n",
    "    response = urlopen(url=url, context=SSLContext())\n",
    "    with open(to, mode=\"wb\") as f:\n",
    "        copyfileobj(response, f)\n",
    "\n",
    "    return PurePath(to)\n",
    "\n",
    "\n",
    "@task\n",
    "@annotate({\"return\": {\"mni_template_file\": PurePath}})\n",
    "def download_mni_template() -> PurePath:\n",
    "    from pathlib import Path\n",
    "\n",
    "    return download_file(\n",
    "        url=\"https://aramislab.paris.inria.fr/files/data/img_t1_linear/mni_icbm152_t1_tal_nlin_sym_09c.nii.gz\",\n",
    "        to=str(Path.cwd() / \"mni_icbm152_t1_tal_nlin_sym_09c.nii.gz\"),\n",
    "    )\n",
    "\n",
    "\n",
    "@task\n",
    "@annotate({\"return\": {\"ref_template_file\": PurePath}})\n",
    "def download_ref_template() -> PurePath:\n",
    "    from pathlib import Path\n",
    "\n",
    "    return download_file(\n",
    "        url=\"https://aramislab.paris.inria.fr/files/data/img_t1_linear/ref_cropped_template.nii.gz\",\n",
    "        to=str(Path.cwd() / \"ref_cropped_template.nii.gz\"),\n",
    "    )"
   ],
   "metadata": {
    "collapsed": false,
    "pycharm": {
     "name": "#%%\n"
    }
   }
  },
  {
   "cell_type": "markdown",
   "source": [
    "## Workflow constructors"
   ],
   "metadata": {
    "collapsed": false,
    "pycharm": {
     "name": "#%% md\n"
    }
   }
  },
  {
   "cell_type": "code",
   "execution_count": null,
   "outputs": [],
   "source": [
    "from pydra import Workflow\n",
    "\n",
    "\n",
    "def build_input_workflow(name: str = \"input\") -> Workflow:\n",
    "    \"\"\"Input workflow for the T1 linear pipeline.\n",
    "\n",
    "    Responsible for fetching the MNI and reference templates and the T1w files\n",
    "    of the input BIDS dataset.\n",
    "\n",
    "    :param name: The name of the workflow.\n",
    "    :return: The input workflow.\n",
    "    \"\"\"\n",
    "    from pydra.tasks.nipype1.utils import Nipype1Task\n",
    "\n",
    "    wf = Workflow(name=name, input_spec=[\"input_dir\"])\n",
    "\n",
    "    wf.add(download_mni_template(name=\"download_mni_template\"))\n",
    "\n",
    "    wf.add(download_ref_template(name=\"download_ref_template\"))\n",
    "\n",
    "    wf.add(\n",
    "        Nipype1Task(\n",
    "            name=\"bids_data_grabber\",\n",
    "            interface=bids_data_grabber,\n",
    "            base_dir=wf.lzin.input_dir,\n",
    "        )\n",
    "    )\n",
    "\n",
    "    wf.set_output([\n",
    "        (\"t1w_files\", wf.bids_data_grabber.lzout.T1w),\n",
    "        (\"mni_template_file\", wf.download_mni_template.lzout.mni_template_file),\n",
    "        (\"ref_template_file\", wf.download_ref_template.lzout.ref_template_file),\n",
    "    ])\n",
    "\n",
    "    return wf\n",
    "\n",
    "\n",
    "def build_core_workflow(name: str = \"core\") -> Workflow:\n",
    "    \"\"\"Core workflow for the T1 linear pipeline.\n",
    "\n",
    "    :param name: The name of the workflow.\n",
    "    :return: The core workflow.\n",
    "    \"\"\"\n",
    "    from pydra.tasks.nipype1.utils import Nipype1Task\n",
    "\n",
    "    wf = Workflow(name=name, input_spec=[\"t1w_file\", \"mni_template_file\", \"ref_template_file\"])\n",
    "\n",
    "    wf.add(\n",
    "        Nipype1Task(\n",
    "            name=\"n4_bias_field_correction\",\n",
    "            interface=n4_bias_field_correction,\n",
    "            input_image=wf.lzin.t1w_file,\n",
    "        )\n",
    "    )\n",
    "\n",
    "    wf.add(\n",
    "        Nipype1Task(\n",
    "            name=\"registration_syn_quick\",\n",
    "            interface=registration_syn_quick,\n",
    "            fixed_image=wf.lzin.mni_template_file,\n",
    "            moving_image=wf.n4_bias_field_correction.lzout.output_image,\n",
    "        )\n",
    "    )\n",
    "\n",
    "    wf.add(\n",
    "        crop_image(\n",
    "            name=\"crop_image\",\n",
    "            interface=crop_image,\n",
    "            input_image=wf.registration_syn_quick.lzout.warped_image,\n",
    "            template_image=wf.lzin.ref_template_file,\n",
    "        )\n",
    "    )\n",
    "\n",
    "    wf.set_output([\n",
    "        (\"t1w_corrected_file\", wf.n4_bias_field_correction.lzout.output_image),\n",
    "        (\"t1w_registered_file\", wf.registration_syn_quick.lzout.warped_image),\n",
    "        (\"t1w_cropped_file\", wf.crop_image.lzout.cropped_image),\n",
    "        (\"xfm_file\", wf.registration_syn_quick.lzout.out_matrix),\n",
    "    ])\n",
    "\n",
    "    return wf\n",
    "\n",
    "\n",
    "def build_output_workflow(name: str = \"output\") -> Workflow:\n",
    "    \"\"\"Example of an output workflow.\n",
    "\n",
    "    :param name: The name of the workflow.\n",
    "    :return: The output workflow.\n",
    "    \"\"\"\n",
    "    import pydra\n",
    "\n",
    "    @pydra.mark.task\n",
    "    @pydra.mark.annotate({\"return\": {\"output_file\": str}})\n",
    "    def bids_writer_task(input_file, output_dir):\n",
    "        \"\"\"\n",
    "        Task to write files to output_dir\n",
    "        \"\"\"\n",
    "        import subprocess\n",
    "        output_file = f\"{output_dir}/{input_file}\"\n",
    "        print(f\"{output_file}\")\n",
    "\n",
    "        return output_file\n",
    "\n",
    "    wf = Workflow(name=name, input_spec=[\"input_file\", \"output_dir\"])\n",
    "    wf.add(bids_writer_task(name=\"bids_writer\", input_file=wf.lzin.input_file, output_dir=wf.lzin.output_dir))\n",
    "    wf.set_output([(\"output_file\", wf.bids_writer.lzout.output_file)])\n",
    "\n",
    "    return wf"
   ],
   "metadata": {
    "collapsed": false,
    "pycharm": {
     "name": "#%%\n"
    }
   }
  },
  {
   "cell_type": "markdown",
   "source": [
    "## Workflow definition"
   ],
   "metadata": {
    "collapsed": false,
    "pycharm": {
     "name": "#%% md\n"
    }
   }
  },
  {
   "cell_type": "code",
   "execution_count": null,
   "outputs": [],
   "source": [
    "workflow = Workflow(\n",
    "    name=\"t1_linear\",\n",
    "    input_spec=[\"input_dir\"],\n",
    "    input_dir=pipeline_in_dir / \"bids\",\n",
    ")\n",
    "\n",
    "wf_input = build_input_workflow()\n",
    "wf_input.inputs.input_dir = workflow.lzin.input_dir\n",
    "workflow.add(wf_input)\n",
    "\n",
    "wf_core = build_core_workflow()\n",
    "wf_core.inputs.t1w_file = wf_input.lzout.t1w_files\n",
    "wf_core.inputs.mni_template_file = wf_input.lzout.mni_template_file\n",
    "wf_core.inputs.ref_template_file = wf_input.lzout.ref_template_file\n",
    "workflow.add(wf_core.split(\"t1w_file\"))\n",
    "\n",
    "wf_output = build_output_workflow()\n",
    "wf_output.inputs.input_file = wf_core.lzout.t1w_cropped_file\n",
    "wf_output.inputs.output_dir = \"/Users/ghislain.vaillant\"\n",
    "workflow.add(wf_output)\n",
    "\n",
    "workflow.set_output([\n",
    "    (\"t1w_cropped_file\", wf_output.lzout.output_file),\n",
    "    (\"xfm_file\", wf_core.lzout.xfm_file),\n",
    "])"
   ],
   "metadata": {
    "collapsed": false,
    "pycharm": {
     "name": "#%%\n"
    }
   }
  },
  {
   "cell_type": "markdown",
   "source": [
    "## Workflow execution"
   ],
   "metadata": {
    "collapsed": false,
    "pycharm": {
     "name": "#%% md\n"
    }
   }
  },
  {
   "cell_type": "code",
   "execution_count": null,
   "outputs": [],
   "source": [
    "from pydra import Submitter\n",
    "\n",
    "with Submitter(plugin=\"cf\") as submitter:\n",
    "    submitter(workflow)\n",
    "\n",
    "results = workflow.result(return_inputs=True)\n",
    "\n",
    "print(results)"
   ],
   "metadata": {
    "collapsed": false,
    "pycharm": {
     "name": "#%%\n"
    }
   }
  }
 ],
 "metadata": {
  "kernelspec": {
   "display_name": "Python 3",
   "language": "python",
   "name": "python3"
  },
  "language_info": {
   "codemirror_mode": {
    "name": "ipython",
    "version": 2
   },
   "file_extension": ".py",
   "mimetype": "text/x-python",
   "name": "python",
   "nbconvert_exporter": "python",
   "pygments_lexer": "ipython2",
   "version": "2.7.6"
  }
 },
 "nbformat": 4,
 "nbformat_minor": 0
}